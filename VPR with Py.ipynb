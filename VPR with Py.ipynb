{
 "cells": [
  {
   "cell_type": "code",
   "execution_count": 2,
   "id": "682fafe8-788a-4f53-8383-2ea250c4fa84",
   "metadata": {},
   "outputs": [
    {
     "name": "stdout",
     "output_type": "stream",
     "text": [
      "Запросы с частотностью 0: ['кепка потертая', 'палантин женский весна', 'палантин женский весна легкий', 'панама плюшевая', 'свитер осенний', 'свитер с овцами', 'пуловер женский осень', 'плюшевая кофта оверсайз', 'варежки женские теплые', 'штаны школьные для подростка', 'панама варенка']\n",
      "Результаты сохранены в файл queries_with_frequency.xlsx\n"
     ]
    }
   ],
   "source": [
    "import pandas as pd\n",
    "\n",
    "\n",
    "csv_file_path = 'requests (6).csv'  \n",
    "csv_data = pd.read_csv(csv_file_path, header=None, names=['Запрос', 'Частотность'])\n",
    "\n",
    "\n",
    "xlsx_file_path = 'ЧАСТОТНОСТЬ.xlsx'  \n",
    "xlsx_data = pd.read_excel(xlsx_file_path, header=None, names=['Запрос'])\n",
    "\n",
    "\n",
    "csv_data['Запрос'] = csv_data['Запрос'].str.strip().str.lower()\n",
    "xlsx_data['Запрос'] = xlsx_data['Запрос'].str.strip().str.lower()\n",
    "\n",
    "\n",
    "merged_data = pd.merge(xlsx_data, csv_data, on='Запрос', how='left')\n",
    "\n",
    "\n",
    "merged_data['Частотность'] = merged_data['Частотность'].fillna(0)\n",
    "\n",
    "\n",
    "not_found = merged_data[merged_data['Частотность'] == 0]\n",
    "if not not_found.empty:\n",
    "    print(f\"Запросы с частотностью 0: {not_found['Запрос'].tolist()}\")\n",
    "\n",
    "\n",
    "output_file_path = 'queries_with_frequency.xlsx'\n",
    "merged_data.to_excel(output_file_path, index=False)\n",
    "\n",
    "print(f\"Результаты сохранены в файл {output_file_path}\")"
   ]
  },
  {
   "cell_type": "code",
   "execution_count": null,
   "id": "03dc2042-2e8b-40c4-bed7-4a549ecbdab5",
   "metadata": {},
   "outputs": [],
   "source": []
  }
 ],
 "metadata": {
  "kernelspec": {
   "display_name": "Python 3 (ipykernel)",
   "language": "python",
   "name": "python3"
  },
  "language_info": {
   "codemirror_mode": {
    "name": "ipython",
    "version": 3
   },
   "file_extension": ".py",
   "mimetype": "text/x-python",
   "name": "python",
   "nbconvert_exporter": "python",
   "pygments_lexer": "ipython3",
   "version": "3.12.7"
  }
 },
 "nbformat": 4,
 "nbformat_minor": 5
}
